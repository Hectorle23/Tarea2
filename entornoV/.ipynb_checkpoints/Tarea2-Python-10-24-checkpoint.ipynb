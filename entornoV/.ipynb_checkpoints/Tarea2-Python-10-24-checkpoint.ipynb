{
 "cells": [
  {
   "cell_type": "code",
   "execution_count": 7,
   "id": "9170698f-7abd-4190-bf25-b2f05bf632f3",
   "metadata": {},
   "outputs": [
    {
     "name": "stdout",
     "output_type": "stream",
     "text": [
      "Longitud de cadena: 18\n"
     ]
    }
   ],
   "source": [
    "# 1- CALCULAR EL TAMAÑO DE LA CADENA \"Esta es una cadena\", sin usar la funcion \"len\"\n",
    "\n",
    "#EJEMPLO DE COMO SERIA CON LEN\n",
    "\"\"\"cadena= \"Esto es una cadena\"\n",
    "print(len(cadena))\n",
    "\"\"\"\n",
    "#SOLUCIÓN DEL EJERCICIO SIN LA FUNCION LEN\n",
    "def longitud(valor):\n",
    "\n",
    "    if type(valor) is not list and type(valor) is not str:\n",
    "        return -1\n",
    "\n",
    "    contador = 0\n",
    "\n",
    "    for elemento in valor:\n",
    "        contador += 1\n",
    "    return contador\n",
    "\n",
    "cadena = \"Esto es una cadena\"\n",
    "print(\"Longitud de cadena:\", longitud(cadena))"
   ]
  },
  {
   "cell_type": "code",
   "execution_count": 9,
   "id": "ef5dcbaf-b87e-423e-a70a-d8b85be9cbb7",
   "metadata": {},
   "outputs": [
    {
     "name": "stdout",
     "output_type": "stream",
     "text": [
      "13\n"
     ]
    }
   ],
   "source": [
    "# 2-CONTAR EL NUMERO DE CARACTERES DE LA CADENA \"trabajando.pe\"\n",
    "cadena2 = \"trabajando.pe\"\n",
    "print(len(cadena2))"
   ]
  },
  {
   "cell_type": "code",
   "execution_count": 3,
   "id": "16a2efcf-52cf-47f9-9f78-fa3c65e3ef9d",
   "metadata": {},
   "outputs": [
    {
     "name": "stdout",
     "output_type": "stream",
     "text": [
      "['a', 'b', 'c']\n"
     ]
    }
   ],
   "source": [
    "# 3- ELIMINAR DE LA LISTA [\"A\", \"B\", \"C\", \"A\", \"C\", \"C\"]\n",
    "lista=[\"a\", \"b\", \"c\", \"a\", \"c\", \"c\"]\n",
    "\n",
    "resultlista = []\n",
    "\n",
    "for duplicado in lista:\n",
    "    if duplicado not in resultlista:\n",
    "        resultlista.append(duplicado)\n",
    "\n",
    "print(resultlista)\n"
   ]
  },
  {
   "cell_type": "code",
   "execution_count": 5,
   "id": "6cc3a0ff-0d93-414e-8b6c-ab00d4de0c06",
   "metadata": {},
   "outputs": [
    {
     "name": "stdout",
     "output_type": "stream",
     "text": [
      "*\n",
      "**\n",
      "***\n",
      "****\n",
      "*****\n",
      "****\n",
      "***\n",
      "**\n",
      "*\n",
      "\n"
     ]
    }
   ],
   "source": [
    "# 4- IMPRIMIR PATRON PIRAMIDAL USANDO BUCLES\n",
    "\n",
    "def piramide(n):\n",
    "    piramidelista = []\n",
    "\n",
    "    for i in range(1,n+1):\n",
    "        piramidelista.append(\"*\"*i)\n",
    "    print(\"\\n\".join(piramidelista))\n",
    "\n",
    "    for i in reversed(range(n)):\n",
    "      print((\"*\" * (1*i)))\n",
    "\n",
    "n = 5\n",
    "piramide(n)"
   ]
  },
  {
   "cell_type": "code",
   "execution_count": 6,
   "id": "318db6c4-5393-4e1b-9f02-102499b926a6",
   "metadata": {},
   "outputs": [
    {
     "data": {
      "text/plain": [
       "True"
      ]
     },
     "execution_count": 6,
     "metadata": {},
     "output_type": "execute_result"
    }
   ],
   "source": [
    "# 5-ESCRIBIR UNA FUNCION PARA DETERMINAR SI UN NUMERO ES PRIMO Ó NO\n",
    "def es_primo(numero):\n",
    "  if numero<2:\n",
    "    return False\n",
    "  for i in range(2, numero):\n",
    "     if  (numero % i)== 0:\n",
    "        return False\n",
    "\n",
    "  return True\n",
    "\n",
    "es_primo(7) #Le pasamos el argumento para poder verificar la función."
   ]
  },
  {
   "cell_type": "code",
   "execution_count": null,
   "id": "641d5c30-2724-477d-a4d9-b18609000170",
   "metadata": {},
   "outputs": [],
   "source": []
  }
 ],
 "metadata": {
  "kernelspec": {
   "display_name": "Python 3 (ipykernel)",
   "language": "python",
   "name": "python3"
  },
  "language_info": {
   "codemirror_mode": {
    "name": "ipython",
    "version": 3
   },
   "file_extension": ".py",
   "mimetype": "text/x-python",
   "name": "python",
   "nbconvert_exporter": "python",
   "pygments_lexer": "ipython3",
   "version": "3.12.4"
  }
 },
 "nbformat": 4,
 "nbformat_minor": 5
}
